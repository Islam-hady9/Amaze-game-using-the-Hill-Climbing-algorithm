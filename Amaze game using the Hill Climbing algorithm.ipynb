{
 "cells": [
  {
   "cell_type": "code",
   "execution_count": null,
   "id": "8bd473d9",
   "metadata": {},
   "outputs": [],
   "source": [
    "import random"
   ]
  },
  {
   "cell_type": "code",
   "execution_count": null,
   "id": "0fceb0b4",
   "metadata": {},
   "outputs": [],
   "source": [
    "# Define the game using the MazeGame class\n",
    "class MazeGame:\n",
    "    def __init__(self, width, height):\n",
    "        self.width = width\n",
    "        self.height = height\n",
    "        self.maze = [[0] * width for _ in range(height)]  # Generate the game maze\n",
    "        self.robot_position = (0, 0)  # Starting position of the robot\n",
    "        self.goal_position = (width - 1, height - 1)  # Goal position at the end of the maze\n",
    "        self._generate_maze(0.2)  # Generate the maze upon object creation\n",
    "\n",
    "    # Function to generate the maze based on wall density\n",
    "    def _generate_maze(self, wall_density):\n",
    "        for y in range(self.height):\n",
    "            for x in range(self.width):\n",
    "                if random.random() < wall_density and (x, y) != self.robot_position and (x, y) != self.goal_position:\n",
    "                    self.maze[y][x] = 1  # 1 represents a wall\n",
    "\n",
    "    # Function to print the maze\n",
    "    def print_maze(self):\n",
    "        for row in self.maze:\n",
    "            print(''.join(['#' if cell == 1 else ' ' for cell in row]))\n",
    "\n",
    "    # Function to move the robot\n",
    "    def move_robot(self, direction):\n",
    "        dx, dy = direction\n",
    "        x, y = self.robot_position\n",
    "        new_x, new_y = x + dx, y + dy\n",
    "\n",
    "        if 0 <= new_x < self.width and 0 <= new_y < self.height and self.maze[new_y][new_x] != 1:\n",
    "            self.robot_position = (new_x, new_y)\n",
    "\n",
    "    # Function to check if the goal has been reached\n",
    "    def is_goal_reached(self):\n",
    "        return self.robot_position == self.goal_position"
   ]
  },
  {
   "cell_type": "code",
   "execution_count": null,
   "id": "d0fb54d3",
   "metadata": {},
   "outputs": [],
   "source": [
    "# Hill climbing algorithm function to direct the robot towards the goal\n",
    "def hill_climbing(game):\n",
    "    directions = [(0, -1), (0, 1), (-1, 0), (1, 0)]  # Possible directions: Up, Down, Left, Right\n",
    "    while not game.is_goal_reached():\n",
    "        best_score = float('-inf')  # Best score initially\n",
    "        best_move = None  # Best move initially\n",
    "        for direction in directions:\n",
    "            game.move_robot(direction)\n",
    "            score = evaluate_move(game)\n",
    "            if score > best_score:\n",
    "                best_score = score\n",
    "                best_move = direction\n",
    "            game.move_robot((-direction[0], -direction[1]))  # Move back\n",
    "        if best_move:\n",
    "            game.move_robot(best_move)"
   ]
  },
  {
   "cell_type": "code",
   "execution_count": null,
   "id": "c0d487ba",
   "metadata": {},
   "outputs": [],
   "source": [
    "# Function to evaluate the move based on distance from the goal\n",
    "def evaluate_move(game):\n",
    "    robot_x, robot_y = game.robot_position\n",
    "    goal_x, goal_y = game.goal_position\n",
    "    return -(abs(robot_x - goal_x) + abs(robot_y - goal_y))  # Negative since we want to climb \"uphill\""
   ]
  },
  {
   "cell_type": "code",
   "execution_count": null,
   "id": "c43c71b2",
   "metadata": {},
   "outputs": [],
   "source": [
    "# Game information\n",
    "maze_width = 10\n",
    "maze_height = 10"
   ]
  },
  {
   "cell_type": "code",
   "execution_count": null,
   "id": "d6fb3921",
   "metadata": {},
   "outputs": [],
   "source": [
    "# Create the game\n",
    "game = MazeGame(maze_width, maze_height)\n",
    "game.print_maze()"
   ]
  },
  {
   "cell_type": "code",
   "execution_count": null,
   "id": "764bd9b7",
   "metadata": {},
   "outputs": [],
   "source": [
    "# Apply hill climbing algorithm\n",
    "hill_climbing(game)\n",
    "print(\"\\nRobot's path:\")\n",
    "game.print_maze()"
   ]
  },
  {
   "cell_type": "code",
   "execution_count": null,
   "id": "1d9f2e6f",
   "metadata": {},
   "outputs": [],
   "source": []
  }
 ],
 "metadata": {
  "kernelspec": {
   "display_name": "Python 3 (ipykernel)",
   "language": "python",
   "name": "python3"
  },
  "language_info": {
   "codemirror_mode": {
    "name": "ipython",
    "version": 3
   },
   "file_extension": ".py",
   "mimetype": "text/x-python",
   "name": "python",
   "nbconvert_exporter": "python",
   "pygments_lexer": "ipython3",
   "version": "3.9.16"
  }
 },
 "nbformat": 4,
 "nbformat_minor": 5
}
